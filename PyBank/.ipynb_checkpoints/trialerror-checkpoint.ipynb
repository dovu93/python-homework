{
 "cells": [
  {
   "cell_type": "code",
   "execution_count": 63,
   "metadata": {},
   "outputs": [],
   "source": [
    "import csv\n",
    "# creating all the lists and variables\n",
    "\n",
    "months = []\n",
    "profit = []\n",
    "monthly_change = []\n",
    "\n",
    "count = 0\n",
    "end_profit = 0\n",
    "d = 0\n",
    "\n",
    "# need to add these variables so python knows to record as int as opposed to str in the list AGHHHHHHHHHHHHHHHHHHHHHHHHHHHHHHHHHHHHHHHHHHHHHHHHHH\n",
    "greatest_increase = 0\n",
    "greatest_decrease = 0"
   ]
  },
  {
   "cell_type": "code",
   "execution_count": 68,
   "metadata": {},
   "outputs": [],
   "source": [
    "with open(\"budget_data.csv\", \"r\") as csv_file:\n",
    "    df = csv.reader(csv_file)\n",
    "    next(df)\n",
    "    \n",
    "    for row in df:\n",
    "        \n",
    "\n",
    "        \n",
    "        # count how many lines there are which should equal how many months there are\n",
    "        count = count + 1\n",
    "        \n",
    "        # adding all the months into a list\n",
    "        months.append(row[0])\n",
    "        \n",
    "        # adding all the profits a list\n",
    "        profit.append(int(row[1]))\n",
    "        \n",
    "        # adding up all the profits in column 2\n",
    "        end_profit = end_profit + int(row[1])\n",
    "        \n",
    "        # calculating average monthly gains/loss\n",
    "        avg_gains = end_profit / count\n",
    "        \n",
    "        \n",
    "#         So doing it this way it counts the first month, need to find a way to not count the first month. \n",
    "#         getting the average change in profits over the time period\n",
    "#         this represents the current number\n",
    "#         x = int(row[1])\n",
    "        \n",
    "#         z should represent the change from month previously to month now\n",
    "#         z = x - d\n",
    "       \n",
    "#         addint to a list\n",
    "#         monthly_change.append(z)\n",
    "        \n",
    "#         storing this current month as d to use in the next calculations\n",
    "#         d = x\n",
    "\n",
    "\n",
    "\n",
    "#         this one just gives me all 0. Need to make d change in the if clause not just the else\n",
    "        x = int(row[1])\n",
    "        if d == 0:\n",
    "            monthly_change.append(0)\n",
    "            d = x       \n",
    "        else:\n",
    "            z = x - d\n",
    "            monthly_change.append(z)\n",
    "            d = x\n",
    "\n",
    "\n",
    "        \n",
    "        # find the max and min, then relate to index\n",
    "greatest_increase = max(monthly_change)\n",
    "greatest_decrease = min(monthly_change)\n",
    "        \n",
    "greatest_month = months[monthly_change.index(greatest_increase)]\n",
    "lowest_month = months[monthly_change.index(greatest_decrease)] "
   ]
  },
  {
   "cell_type": "code",
   "execution_count": 62,
   "metadata": {},
   "outputs": [],
   "source": [
    "z = 0\n",
    "for row in monthly_change:\n",
    "    z += row"
   ]
  },
  {
   "cell_type": "code",
   "execution_count": 66,
   "metadata": {},
   "outputs": [
    {
     "name": "stdout",
     "output_type": "stream",
     "text": [
      "Feb-2012\n",
      "1926159\n"
     ]
    }
   ],
   "source": [
    "print(greatest_month)\n",
    "print(greatest_increase)"
   ]
  },
  {
   "cell_type": "code",
   "execution_count": 58,
   "metadata": {},
   "outputs": [
    {
     "name": "stdout",
     "output_type": "stream",
     "text": [
      "[0, 116771, -662642, -391430, 379920, 212354, 510239, -428211, -821271, 693918, 416278, -974163, 860159, -1115009, 1033048, 95318, -308093, 99052, -521393, 605450, 231727, -65187, -702716, 177975, -1065544, 1926159, -917805, 898730, -334262, -246499, -64055, -1529236, 1497596, 304914, -635801, 398319, -183161, -37864, -253689, 403655, 94168, 306877, -83000, 210462, -2196167, 1465222, -956983, 1838447, -468003, -64602, 206242, -242155, -449079, 315198, 241099, 111540, 365942, -219310, -368665, 409837, 151210, -110244, -341938, -1212159, 683246, -70825, 335594, 417334, -272194, -236462, 657432, -211262, -128237, -1750387, 925441, 932089, -311434, 267252, -1876758, 1733696, 198551, -665765, 693229, -734926, 77242, 532869]\n"
     ]
    }
   ],
   "source": [
    "print(monthly_change)"
   ]
  },
  {
   "cell_type": "code",
   "execution_count": 57,
   "metadata": {},
   "outputs": [
    {
     "name": "stdout",
     "output_type": "stream",
     "text": [
      "-2288.1976744186045\n"
     ]
    }
   ],
   "source": [
    "print(k)"
   ]
  },
  {
   "cell_type": "code",
   "execution_count": 67,
   "metadata": {},
   "outputs": [
    {
     "name": "stdout",
     "output_type": "stream",
     "text": [
      "Sep-2013\n",
      "-2196167\n"
     ]
    }
   ],
   "source": [
    "print(lowest_month)\n",
    "print(greatest_decrease)"
   ]
  },
  {
   "cell_type": "code",
   "execution_count": null,
   "metadata": {},
   "outputs": [],
   "source": []
  }
 ],
 "metadata": {
  "kernelspec": {
   "display_name": "Python 3",
   "language": "python",
   "name": "python3"
  },
  "language_info": {
   "codemirror_mode": {
    "name": "ipython",
    "version": 3
   },
   "file_extension": ".py",
   "mimetype": "text/x-python",
   "name": "python",
   "nbconvert_exporter": "python",
   "pygments_lexer": "ipython3",
   "version": "3.7.6"
  }
 },
 "nbformat": 4,
 "nbformat_minor": 4
}
