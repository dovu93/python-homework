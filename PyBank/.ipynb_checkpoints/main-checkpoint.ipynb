{
 "cells": [
  {
   "cell_type": "code",
   "execution_count": 23,
   "metadata": {},
   "outputs": [],
   "source": [
    "import csv"
   ]
  },
  {
   "cell_type": "code",
   "execution_count": 24,
   "metadata": {},
   "outputs": [],
   "source": [
    "months = []\n",
    "profit = []\n",
    "monthly_change = []\n",
    "\n",
    "count = 0\n",
    "end_profit = 0\n",
    "random = 0\n",
    "greatest_increase = 0\n",
    "greatest_decrease = 0\n",
    "starting_profit = 0"
   ]
  },
  {
   "cell_type": "code",
   "execution_count": 25,
   "metadata": {},
   "outputs": [],
   "source": [
    "with open(\"budget_data.csv\", \"r\") as csv_file:\n",
    "    df = csv.reader(csv_file)\n",
    "    next(df)\n",
    "    \n",
    "    for row in df:\n",
    "        \n",
    "        count = count + 1\n",
    "        \n",
    "        months.append(row[0])\n",
    "        \n",
    "        profit.append(int(row[1]))\n",
    "        \n",
    "        end_profit = end_profit + int(row[1])\n",
    "        \n",
    "        avg_gains = end_profit / count\n",
    "        \n",
    "        monthly_profit = int(row[1])\n",
    "        \n",
    "        if starting_profit == 0:\n",
    "            monthly_change.append(0)\n",
    "            starting_profit = monthly_profit       \n",
    "        else:\n",
    "            ending_profit = monthly_profit - starting_profit\n",
    "            monthly_change.append(ending_profit)\n",
    "            starting_profit = monthly_profit\n",
    "        \n",
    "        \n",
    "        \n",
    "greatest_increase = max(monthly_change)\n",
    "greatest_decrease = min(monthly_change)\n",
    "        \n",
    "greatest_month = months[monthly_change.index(greatest_increase)]\n",
    "lowest_month = months[monthly_change.index(greatest_decrease)] \n",
    "\n",
    "for ro in monthly_change:\n",
    "    random += ro\n",
    "    \n",
    "avg_change = random/count"
   ]
  },
  {
   "cell_type": "code",
   "execution_count": 26,
   "metadata": {},
   "outputs": [
    {
     "name": "stdout",
     "output_type": "stream",
     "text": [
      "Financial Analysis PyBank\n",
      "----------------------------------------\n",
      "Total Months: 86\n",
      "Total Profits: $ 38382578\n",
      "Average Monthly Change: $ -2288.20\n",
      "Greatest Increase in Profits: Feb-2012 $ 1926159\n",
      "Greatest Decrease in Profits: Sep-2013 $ -2196167\n",
      "----------------------------------------\n"
     ]
    }
   ],
   "source": [
    "#Print Statements\n",
    "print(\"Financial Analysis PyBank\")\n",
    "print(\"----------------------------------------\")\n",
    "print(\"Total Months: \"+ str(count))\n",
    "print(\"Total Profits: $ \" + str(end_profit))\n",
    "print(\"Average Monthly Change: $\", \"{:.2f}\".format(avg_change))\n",
    "print(\"Greatest Increase in Profits: \"+str(greatest_month) + \" $ \" + str(greatest_increase))\n",
    "print(\"Greatest Decrease in Profits: \"+str(lowest_month) + \" $ \" + str(greatest_decrease))\n",
    "print(\"----------------------------------------\")"
   ]
  },
  {
   "cell_type": "code",
   "execution_count": 28,
   "metadata": {},
   "outputs": [],
   "source": [
    "with open('Financial_Analysis_PyBank.txt', 'w') as text:\n",
    "    text.write(\"Financial Analysis PyBank\" + \"\\n\")\n",
    "    text.write(\"-----------------------------------------------------------\" + \"\\n\")\n",
    "    text.write(\"    Total Months: \" + str(count) + \"\\n\")\n",
    "    text.write(\"    Total Profits: $\" + str(end_profit) + \"\\n\")\n",
    "    text.write(\"    Average Monthly Change: $\")\n",
    "    text.write(\"{:.2f}\".format(avg_change) + \"\\n\")\n",
    "    text.write(\"    Greatest Increase in Profits: \"+str(greatest_month) + \" $ \" + str(greatest_increase) + \"\\n\")\n",
    "    text.write(\"    Greatest Decrease in Profits: \"+str(lowest_month) + \" $ \" + str(greatest_decrease) + \"\\n\")\n",
    "    text.write(\"------------------------------------------------------------\" + \"\\n\")"
   ]
  },
  {
   "cell_type": "code",
   "execution_count": 22,
   "metadata": {},
   "outputs": [
    {
     "name": "stdout",
     "output_type": "stream",
     "text": [
      "-2288.1976744186045\n"
     ]
    }
   ],
   "source": [
    "print(avg_change)"
   ]
  },
  {
   "cell_type": "code",
   "execution_count": null,
   "metadata": {},
   "outputs": [],
   "source": []
  }
 ],
 "metadata": {
  "kernelspec": {
   "display_name": "Python 3",
   "language": "python",
   "name": "python3"
  },
  "language_info": {
   "codemirror_mode": {
    "name": "ipython",
    "version": 3
   },
   "file_extension": ".py",
   "mimetype": "text/x-python",
   "name": "python",
   "nbconvert_exporter": "python",
   "pygments_lexer": "ipython3",
   "version": "3.7.6"
  }
 },
 "nbformat": 4,
 "nbformat_minor": 4
}
