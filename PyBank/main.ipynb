{
 "cells": [
  {
   "cell_type": "code",
   "execution_count": 3,
   "metadata": {},
   "outputs": [],
   "source": [
    "import csv"
   ]
  },
  {
   "cell_type": "code",
   "execution_count": 22,
   "metadata": {},
   "outputs": [],
   "source": [
    "# creating all the lists and variables\n",
    "\n",
    "months = []\n",
    "profit = []\n",
    "\n",
    "count = 0\n",
    "end_profit = 0"
   ]
  },
  {
   "cell_type": "code",
   "execution_count": 32,
   "metadata": {},
   "outputs": [],
   "source": [
    "with open('budget_data.csv', 'r') as csv_file:\n",
    "    df = csv.reader(csv_file)\n",
    "    next(df)\n",
    "    \n",
    "    for row in df:\n",
    "        \n",
    "        # count how many lines there are which should equal how many months there are\n",
    "        count = count + 1\n",
    "        \n",
    "        # adding all the months into a list\n",
    "        months.append(row[0])\n",
    "        \n",
    "        # adding all the profits a list\n",
    "        profit.append(row[1])\n",
    "        \n",
    "        # adding up all the profits in column 2\n",
    "        end_profit = end_profit + int(row[1])\n",
    "        \n",
    "        # calculating average monthly gains/loss\n",
    "        avg_gains = end_profit / count\n",
    "        \n",
    "        # find the max and min, then relate to index\n",
    "        greatest_increase = max(profit)\n",
    "        greatest_decrease = min(profit)\n",
    "        \n",
    "        greatest_month = months[profit.index(greatest_increase)]\n",
    "        lowest_month = months[profit.index(greatest_decrease)] "
   ]
  },
  {
   "cell_type": "code",
   "execution_count": 39,
   "metadata": {},
   "outputs": [
    {
     "name": "stdout",
     "output_type": "stream",
     "text": [
      "Financial Analysis PyBank\n",
      "--------------------------------------\n",
      "Total Months: 345\n",
      "Total: $ 154398196\n",
      "Average Monthly Change: $ 447531.00\n",
      "Greatest Increase in Profits: Aug-2013 $ 999942\n",
      "Greatest Decrease in Profits: Aug-2012 $ -1022534\n"
     ]
    }
   ],
   "source": [
    "#Print Statements\n",
    "print(\"Financial Analysis PyBank\")\n",
    "print(\"--------------------------------------\")\n",
    "print(\"Total Months: \"+ str(count))\n",
    "print(\"Total: $ \" + str(end_profit))\n",
    "print(\"Average Monthly Change: $\", \"{:.2f}\".format(avg_gains))\n",
    "print(\"Greatest Increase in Profits: \"+str(greatest_month) + \" $ \" + str(greatest_increase))\n",
    "print(\"Greatest Decrease in Profits: \"+str(lowest_month) + \" $ \" + str(greatest_decrease))"
   ]
  },
  {
   "cell_type": "code",
   "execution_count": null,
   "metadata": {},
   "outputs": [],
   "source": []
  }
 ],
 "metadata": {
  "kernelspec": {
   "display_name": "Python 3",
   "language": "python",
   "name": "python3"
  },
  "language_info": {
   "codemirror_mode": {
    "name": "ipython",
    "version": 3
   },
   "file_extension": ".py",
   "mimetype": "text/x-python",
   "name": "python",
   "nbconvert_exporter": "python",
   "pygments_lexer": "ipython3",
   "version": "3.7.7"
  }
 },
 "nbformat": 4,
 "nbformat_minor": 4
}
