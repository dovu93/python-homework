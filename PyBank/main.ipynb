{
 "cells": [
  {
   "cell_type": "code",
   "execution_count": 13,
   "metadata": {},
   "outputs": [],
   "source": [
    "import csv"
   ]
  },
  {
   "cell_type": "code",
   "execution_count": 14,
   "metadata": {},
   "outputs": [],
   "source": [
    "# creating all the lists and variables\n",
    "\n",
    "months = []\n",
    "profit = []\n",
    "\n",
    "count = 0\n",
    "end_profit = 0\n",
    "\n",
    "# need to add these variables so python knows to record as int as opposed to str in the list AGHHHHHHHHHHHHHHHHHHHHHHHHHHHHHHHHHHHHHHHHHHHHHHHHHH\n",
    "greatest_increase = 0\n",
    "greatest_decrease = 0"
   ]
  },
  {
   "cell_type": "code",
   "execution_count": 15,
   "metadata": {},
   "outputs": [],
   "source": [
    "with open(\"budget_data.csv\", \"r\") as csv_file:\n",
    "    df = csv.reader(csv_file)\n",
    "    next(df)\n",
    "    \n",
    "    for row in df:\n",
    "        \n",
    "        # count how many lines there are which should equal how many months there are\n",
    "        count = count + 1\n",
    "        \n",
    "        # adding all the months into a list\n",
    "        months.append(row[0])\n",
    "        \n",
    "        # adding all the profits a list\n",
    "        profit.append(int(row[1]))\n",
    "        \n",
    "        # adding up all the profits in column 2\n",
    "        end_profit = end_profit + int(row[1])\n",
    "        \n",
    "        # calculating average monthly gains/loss\n",
    "        avg_gains = end_profit / count\n",
    "        \n",
    "        # find the max and min, then relate to index\n",
    "        greatest_increase = max(profit)\n",
    "        greatest_decrease = min(profit)\n",
    "        \n",
    "        greatest_month = months[profit.index(greatest_increase)]\n",
    "        lowest_month = months[profit.index(greatest_decrease)] "
   ]
  },
  {
   "cell_type": "code",
   "execution_count": 16,
   "metadata": {},
   "outputs": [
    {
     "name": "stdout",
     "output_type": "stream",
     "text": [
      "Financial Analysis PyBank\n",
      "----------------------------------------\n",
      "Total Months: 86\n",
      "Total Profits: $ 38382578\n",
      "Average Monthly Change: $ 446309.05\n",
      "Greatest Increase in Profits: Feb-2012 $ 1170593\n",
      "Greatest Decrease in Profits: Sep-2013 $ -1196225\n",
      "----------------------------------------\n"
     ]
    }
   ],
   "source": [
    "#Print Statements\n",
    "print(\"Financial Analysis PyBank\")\n",
    "print(\"----------------------------------------\")\n",
    "print(\"Total Months: \"+ str(count))\n",
    "print(\"Total Profits: $ \" + str(end_profit))\n",
    "print(\"Average Monthly Change: $\", \"{:.2f}\".format(avg_gains))\n",
    "print(\"Greatest Increase in Profits: \"+str(greatest_month) + \" $ \" + str(greatest_increase))\n",
    "print(\"Greatest Decrease in Profits: \"+str(lowest_month) + \" $ \" + str(greatest_decrease))\n",
    "print(\"----------------------------------------\")"
   ]
  },
  {
   "cell_type": "code",
   "execution_count": 17,
   "metadata": {},
   "outputs": [],
   "source": [
    "with open('Financial_Analysis_PyBank.txt', 'w') as text:\n",
    "    text.write(\"Financial Analysis PyBank\" + \"\\n\")\n",
    "    text.write(\"-----------------------------------------------------------\" + \"\\n\")\n",
    "    text.write(\"    Total Months: \" + str(count) + \"\\n\")\n",
    "    text.write(\"    Total Profits: $\" + str(end_profit) + \"\\n\")\n",
    "    text.write(\"    Average Monthly Change: $\")\n",
    "    text.write(\"{:.2f}\".format(avg_gains) + \"\\n\")\n",
    "    text.write(\"    Greatest Increase in Profits: \"+str(greatest_month) + \" $ \" + str(greatest_increase) + \"\\n\")\n",
    "    text.write(\"    Greatest Decrease in Profits: \"+str(lowest_month) + \" $ \" + str(greatest_decrease) + \"\\n\")\n",
    "    text.write(\"------------------------------------------------------------\" + \"\\n\")"
   ]
  },
  {
   "cell_type": "code",
   "execution_count": null,
   "metadata": {},
   "outputs": [],
   "source": []
  }
 ],
 "metadata": {
  "kernelspec": {
   "display_name": "Python 3",
   "language": "python",
   "name": "python3"
  },
  "language_info": {
   "codemirror_mode": {
    "name": "ipython",
    "version": 3
   },
   "file_extension": ".py",
   "mimetype": "text/x-python",
   "name": "python",
   "nbconvert_exporter": "python",
   "pygments_lexer": "ipython3",
   "version": "3.7.7"
  }
 },
 "nbformat": 4,
 "nbformat_minor": 4
}
