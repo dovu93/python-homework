{
 "cells": [
  {
   "cell_type": "code",
   "execution_count": 2,
   "metadata": {},
   "outputs": [],
   "source": [
    "import csv"
   ]
  },
  {
   "cell_type": "code",
   "execution_count": 15,
   "metadata": {},
   "outputs": [],
   "source": [
    "# creating all the lists and variables\n",
    "\n",
    "months = []\n",
    "profit = []\n",
    "change = []\n",
    "\n",
    "\n",
    "count = 0\n",
    "begin_profit = 0\n",
    "end_profit = 0\n",
    "profits_change = 0\n"
   ]
  },
  {
   "cell_type": "code",
   "execution_count": 18,
   "metadata": {},
   "outputs": [],
   "source": [
    "with open('budget_data.csv', 'r') as csv_file:\n",
    "    df = csv.reader(csv_file)\n",
    "    next(df)\n",
    "    \n",
    "    for row in df:\n",
    "        \n",
    "        # count how many lines there are which should equal how many months there are\n",
    "        count = count + 1\n",
    "        \n",
    "        # adding all the months into the list months\n",
    "        months.append(row[0])\n",
    "        \n",
    "        # adding all the profits into the list profits\n",
    "        profit.append(row[1])\n",
    "        \n",
    "        # adding up all the profits in column 2\n",
    "        end_profit = end_profit + int(row[1])\n",
    "        \n",
    "        # adding monthly changes to a list\n",
    "        monthly_profit = int(row[1])\n",
    "        monthly_change = monthly_profit - begin_profit\n",
    "        change.append(monthly_change)\n",
    "        \n",
    "        # adding up column 2\n",
    "        profits_change = monthly_change + profits_change\n",
    "        \n",
    "        \n",
    "        \n",
    "        \n",
    "    \n"
   ]
  },
  {
   "cell_type": "code",
   "execution_count": 7,
   "metadata": {},
   "outputs": [
    {
     "name": "stdout",
     "output_type": "stream",
     "text": [
      "86\n"
     ]
    }
   ],
   "source": [
    "print(len(months))"
   ]
  },
  {
   "cell_type": "code",
   "execution_count": 13,
   "metadata": {},
   "outputs": [
    {
     "name": "stdout",
     "output_type": "stream",
     "text": [
      "Financial Analysis PyBank\n",
      "--------------------------------------\n",
      "Total Months: 86\n",
      "Total: 0\n",
      "Average Monthly Change: \n",
      "Greatest Increase in Profits: \n",
      "Greatest Decrease in Profits: \n"
     ]
    }
   ],
   "source": [
    "#Print Statements\n",
    "print(\"Financial Analysis PyBank\")\n",
    "print(\"--------------------------------------\")\n",
    "print(\"Total Months: \"+ str(count))\n",
    "print(\"Total: \" + str(profit))\n",
    "print(\"Average Monthly Change: \")\n",
    "print(\"Greatest Increase in Profits: \")\n",
    "print(\"Greatest Decrease in Profits: \")"
   ]
  },
  {
   "cell_type": "code",
   "execution_count": null,
   "metadata": {},
   "outputs": [],
   "source": []
  }
 ],
 "metadata": {
  "kernelspec": {
   "display_name": "Python 3",
   "language": "python",
   "name": "python3"
  },
  "language_info": {
   "codemirror_mode": {
    "name": "ipython",
    "version": 3
   },
   "file_extension": ".py",
   "mimetype": "text/x-python",
   "name": "python",
   "nbconvert_exporter": "python",
   "pygments_lexer": "ipython3",
   "version": "3.7.7"
  }
 },
 "nbformat": 4,
 "nbformat_minor": 4
}
