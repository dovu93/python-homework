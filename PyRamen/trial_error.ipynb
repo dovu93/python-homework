{
 "cells": [
  {
   "cell_type": "code",
   "execution_count": 41,
   "metadata": {},
   "outputs": [],
   "source": [
    "#these are my trial and errors and notes, wanted a clean copy of my code in the main\n",
    "\n",
    "import csv\n",
    "\n",
    "menu = []\n",
    "sales = []\n",
    "\n",
    "\n",
    "#don't need this, was wrong about instructions\n",
    "#quantity = []\n",
    "#menu_item = []\n",
    "\n",
    "test = [\n",
    "    [\"edamame\", \"appetizer\", \"soybeans\"],\n",
    "    [\"spinach\", \"appetizer\", \"leaves\"],\n",
    "    [\"nigiri\", \"sushi\", \"salmon\"],\n",
    "    [\"sashimi\", \"sushi\", \"tuna\"]\n",
    "]\n",
    "\n",
    "x = 0\n",
    "\n",
    "with open(\"menu_data.csv\", \"r\") as csv_file:\n",
    "    data = csv.reader(csv_file)\n",
    "    next(data)\n",
    "    for line in data:\n",
    "        menu.append(line)\n",
    "        \n",
    "  \n",
    "    \n",
    "with open(\"sales_data.csv\", \"r\") as file:\n",
    "    data1 = csv.reader(file)\n",
    "    next(data1)\n",
    "    for line1 in data1:\n",
    "        sales.append(line1)   \n",
    "        \n"
   ]
  },
  {
   "cell_type": "code",
   "execution_count": 42,
   "metadata": {},
   "outputs": [],
   "source": [
    "quanity = 0\n",
    "menu_item = 0\n",
    "report = {}\n",
    "price = 0\n",
    "cost = 0\n",
    "d = 0\n",
    "\n",
    "\n",
    "\n",
    "for x in sales:\n",
    "    \n",
    "\n",
    "        #don't need the x([4]), drop the () since theres no list inside, just calling the index\n",
    "        menu_item = x[4]\n",
    "        d = int(x[3])\n",
    "        \n",
    "        if menu_item in report:\n",
    "            #don't know how to write move on to next\n",
    "            da = 0            \n",
    "        else: \n",
    "            report[menu_item] = {\n",
    "                \"0count\": 0,\n",
    "                \"revenue\": 0,\n",
    "                \"cogs\": 0,\n",
    "                \"profit\": 0            \n",
    "                }\n",
    "        \n",
    "        \n",
    "        #needed to have the original outside, and then create a variable for the original inside, can't keep resetting it inside the if\n",
    "        if menu_item in report:\n",
    "            a = d\n",
    "            c = report[menu_item][\"0count\"]\n",
    "            report[menu_item][\"0count\"] = (c + a)\n",
    "            \n",
    "            \n",
    "            #this was all my thoughts\n",
    "            #a = int(x[3])[]\n",
    "            #s = s + a + d\n",
    "            #report[menu_item][\"count\"] = s\n",
    "            #d = s\n",
    "            #s = 0\n",
    "            #quanity > 0\n",
    "            #quanity + new = count\n",
    "            #quanity < 0\n",
    "            #count = quanity"
   ]
  },
  {
   "cell_type": "code",
   "execution_count": 43,
   "metadata": {},
   "outputs": [
    {
     "name": "stdout",
     "output_type": "stream",
     "text": [
      "edamame does not equal edamame! NO MATCH!!\n",
      "house salad does not equal house salad! NO MATCH!!\n",
      "cucumber sunomono salad does not equal cucumber sunomono salad! NO MATCH!!\n",
      "hiyashi wakame seaweed salad does not equal hiyashi wakame seaweed salad! NO MATCH!!\n",
      "agedashi tofu does not equal agedashi tofu! NO MATCH!!\n",
      "hiyayakko tofu does not equal hiyayakko tofu! NO MATCH!!\n",
      "pork floss bao does not equal pork floss bao! NO MATCH!!\n",
      "kakuni bao does not equal kakuni bao! NO MATCH!!\n",
      "edamame fried gyoza (vegan) does not equal edamame fried gyoza (vegan)! NO MATCH!!\n",
      "fried gyoza does not equal fried gyoza! NO MATCH!!\n",
      "takoyaki does not equal takoyaki! NO MATCH!!\n",
      "rock shrimp tempura does not equal rock shrimp tempura! NO MATCH!!\n",
      "soft-shell crab tempura does not equal soft-shell crab tempura! NO MATCH!!\n",
      "ebi katsu shrimp bao does not equal ebi katsu shrimp bao! NO MATCH!!\n",
      "green tea does not equal green tea! NO MATCH!!\n",
      "coke does not equal coke! NO MATCH!!\n",
      "black sesame ice cream does not equal black sesame ice cream! NO MATCH!!\n",
      "matcha ice cream does not equal matcha ice cream! NO MATCH!!\n",
      "mango mochi ice cream does not equal mango mochi ice cream! NO MATCH!!\n",
      "strawberry mochi ice cream does not equal strawberry mochi ice cream! NO MATCH!!\n",
      "black sesame creme brulee does not equal black sesame creme brulee! NO MATCH!!\n"
     ]
    }
   ],
   "source": [
    "# now for menu item stuff, cost, price, revenue etc. \n",
    "# lot harder than anticipated. x is calling each list in menu. the first item should be 0 which represents menu[0]\n",
    "# hmmmmm, don't use item = menu[x] you have to use x outside. the constant is inside. \n",
    "d = 0\n",
    "\n",
    "for x in menu:\n",
    "    \n",
    "    item = str(x[0])\n",
    "    price = float(x[3])\n",
    "    cost = float(x[4])\n",
    "    \n",
    "    if item in report:\n",
    "        quan = report[item][\"0count\"]\n",
    "        report[item][\"revenue\"] = (price * quan)\n",
    "        report[item][\"cogs\"] = (quan * cost)\n",
    "        r = report[item][\"revenue\"]\n",
    "        c = report[item][\"cogs\"]\n",
    "        report[item][\"profit\"] = (r - c) \n",
    "        \n",
    "    else:\n",
    "        #not sure if I'm understanding this part correctly.\n",
    "        print(item + \" does not equal \" + item + \"! NO MATCH!!\")\n",
    "        "
   ]
  },
  {
   "cell_type": "code",
   "execution_count": 44,
   "metadata": {},
   "outputs": [
    {
     "name": "stdout",
     "output_type": "stream",
     "text": [
      "32\n"
     ]
    }
   ],
   "source": [
    "print(len(menu))"
   ]
  },
  {
   "cell_type": "code",
   "execution_count": 45,
   "metadata": {},
   "outputs": [
    {
     "name": "stdout",
     "output_type": "stream",
     "text": [
      "spicy miso ramen\n",
      "0count\n"
     ]
    },
    {
     "ename": "KeyError",
     "evalue": "'0count'",
     "output_type": "error",
     "traceback": [
      "\u001b[1;31m---------------------------------------------------------------------------\u001b[0m",
      "\u001b[1;31mKeyError\u001b[0m                                  Traceback (most recent call last)",
      "\u001b[1;32m<ipython-input-45-16fa91c92d81>\u001b[0m in \u001b[0;36m<module>\u001b[1;34m\u001b[0m\n\u001b[0;32m     12\u001b[0m         \u001b[1;32mif\u001b[0m \u001b[0mx\u001b[0m \u001b[1;32min\u001b[0m \u001b[0mtotals\u001b[0m\u001b[1;33m:\u001b[0m\u001b[1;33m\u001b[0m\u001b[1;33m\u001b[0m\u001b[0m\n\u001b[0;32m     13\u001b[0m             \u001b[0mprint\u001b[0m\u001b[1;33m(\u001b[0m\u001b[0mx\u001b[0m\u001b[1;33m)\u001b[0m\u001b[1;33m\u001b[0m\u001b[1;33m\u001b[0m\u001b[0m\n\u001b[1;32m---> 14\u001b[1;33m             \u001b[0mtotals\u001b[0m\u001b[1;33m[\u001b[0m\u001b[0mx\u001b[0m\u001b[1;33m]\u001b[0m \u001b[1;33m=\u001b[0m \u001b[0mtotals\u001b[0m\u001b[1;33m[\u001b[0m\u001b[0mx\u001b[0m\u001b[1;33m]\u001b[0m \u001b[1;33m+\u001b[0m \u001b[0mreport\u001b[0m\u001b[1;33m[\u001b[0m\u001b[0mx\u001b[0m\u001b[1;33m]\u001b[0m\u001b[1;33m\u001b[0m\u001b[1;33m\u001b[0m\u001b[0m\n\u001b[0m\u001b[0;32m     15\u001b[0m         \u001b[1;32melse\u001b[0m\u001b[1;33m:\u001b[0m\u001b[1;33m\u001b[0m\u001b[1;33m\u001b[0m\u001b[0m\n\u001b[0;32m     16\u001b[0m             \u001b[1;32mpass\u001b[0m\u001b[1;33m\u001b[0m\u001b[1;33m\u001b[0m\u001b[0m\n",
      "\u001b[1;31mKeyError\u001b[0m: '0count'"
     ]
    }
   ],
   "source": [
    "# my attempt at summing all the counts, revenue, cogs, and profit together.\n",
    "totals = {\n",
    "    \"0count\": 0,\n",
    "    \"revenue\": 0,\n",
    "    \"cogs\": 0,\n",
    "    \"profit\": 0\n",
    "}\n",
    "\n",
    "for key in report:\n",
    "    print(key)\n",
    "    for x in report[key]:\n",
    "        #print(x)\n",
    "        if x in totals:\n",
    "            print(x)\n",
    "            totals[x] = totals[x] + report[x]\n",
    "        else:\n",
    "            pass\n",
    "\n",
    "        \n",
    "#print(totals)"
   ]
  },
  {
   "cell_type": "code",
   "execution_count": 7,
   "metadata": {},
   "outputs": [],
   "source": [
    "#using the items from instructions to create one for report\n",
    "#for key, value in trading_pnl.items():\n",
    "#    print(f\"Key: {key} Value: {value}\")\n",
    "#print()\n",
    "\n",
    "with open(\"Report.txt\", \"w\") as text:\n",
    "    for key, value in report.items():\n",
    "        text.write(f\"{key} {value}\" + \"\\n\")"
   ]
  },
  {
   "cell_type": "code",
   "execution_count": 8,
   "metadata": {},
   "outputs": [
    {
     "name": "stdout",
     "output_type": "stream",
     "text": [
      "{'spicy miso ramen': {'count': 9238, 'revenue': 110856.0, 'cogs': 46190.0, 'profit': 64666.0}, 'tori paitan ramen': {'count': 9156, 'revenue': 119028.0, 'cogs': 54936.0, 'profit': 64092.0}, 'truffle butter ramen': {'count': 8982, 'revenue': 125748.0, 'cogs': 62874.0, 'profit': 62874.0}, 'tonkotsu ramen': {'count': 9288, 'revenue': 120744.0, 'cogs': 55728.0, 'profit': 65016.0}, 'vegetarian spicy miso': {'count': 9216, 'revenue': 110592.0, 'cogs': 46080.0, 'profit': 64512.0}, 'shio ramen': {'count': 9180, 'revenue': 100980.0, 'cogs': 45900.0, 'profit': 55080.0}, 'miso crab ramen': {'count': 8890, 'revenue': 106680.0, 'cogs': 53340.0, 'profit': 53340.0}, 'nagomi shoyu': {'count': 9132, 'revenue': 100452.0, 'cogs': 45660.0, 'profit': 54792.0}, 'soft-shell miso crab ramen': {'count': 9130, 'revenue': 127820.0, 'cogs': 63910.0, 'profit': 63910.0}, 'burnt garlic tonkotsu ramen': {'count': 9070, 'revenue': 126980.0, 'cogs': 54420.0, 'profit': 72560.0}, 'vegetarian curry + king trumpet mushroom ramen': {'count': 8824, 'revenue': 114712.0, 'cogs': 61768.0, 'profit': 52944.0}}\n"
     ]
    }
   ],
   "source": [
    "print(report)"
   ]
  },
  {
   "cell_type": "code",
   "execution_count": 9,
   "metadata": {},
   "outputs": [
    {
     "name": "stdout",
     "output_type": "stream",
     "text": [
      "[['edamame', 'appetizers', 'boiled soybeans, maldon sea salt', '4', '1'], ['house salad', 'appetizers', 'mixed greens, cherry tomatoes, cucumber, house ginger dressing', '4', '2'], ['cucumber sunomono salad', 'appetizers', 'cucumber, ponzu dressing, pickled ginger sproud, sesame seeds', '5', '2'], ['hiyashi wakame seaweed salad', 'appetizers', 'sweet soy-marinated wakame seaweed threads, pickled ginger sprout, sesame seeds', '5', '2'], ['agedashi tofu', 'appetizers', 'tempura battered tofu, katsuobushi, tsuyu broth, scallions', '5', '2'], ['hiyayakko tofu', 'appetizers', 'chilled soft tofu, house shoyu, katsuobushi, ginger, scallions', '5', '2'], ['pork floss bao', 'appetizers', 'two steamed buns, minced lean slow braised niman, ranch pork belly, cucumbers, sriracha mayo', '4', '2'], ['kakuni bao', 'appetizers', 'two steamed buns, chopped fatty slow braised niman ranch pork belly, cucumbers, house bao sauce', '6', '3'], ['edamame fried gyoza (vegan)', 'appetizers', 'six crispy fried edamame and cabbage pot stickers; ponzu rayu dipping sauce', '6', '3'], ['fried gyoza', 'appetizers', 'six cripsy fried pork and vegetable pot stickers; ponzu rayu dipping sauce', '6', '6'], ['takoyaki', 'appetizers', 'six octopus-filled fried fritters, kewpie mayo, okonomi sauce, aonori, katsuobushi, nori', '6', '3'], ['rock shrimp tempura', 'appetizers', 'deep fried tempura battered rock shrimp, sriracha mayo, nisume sauce, aonori, scallions', '6', '3'], ['soft-shell crab tempura', 'appetizers', 'single deep fried soft-shell crab, tsuyu dipping broth', '6', '3'], ['ebi katsu shrimp bao', 'appetizers', 'two steamed buns, panko-crusted fried shrimp patties, yuzu-kosho mayo, aonori, scallions', '6', '3'], ['nagomi shoyu', 'entree', 'shoyu seasoned clear double stock (organic chick broth + house dashi); slow braised niman ranch pork belly, hanjuku tamago, nori, menma, scallions', '11', '5'], ['shio ramen', 'entree', 'sea salt seasoned clear double stock (organic chicken broth + house dashi); slow braised niman ranch pork belly, hanjuku tamago, kikurage, nori, scallions', '11', '5'], ['spicy miso ramen', 'entree', 'house togarashi miso blend + niman ranch pork bone stock; slow braised niman ranch pork belly, hanjuku tamago, kikurage, nori, scallions', '12', '5'], ['vegetarian spicy miso', 'entree', 'house togarashi miso blend + vegan dashi; tempura fried tofu, sweet corn, edamame, kikurage, nori, scallions; organic soy milk upon request', '12', '5'], ['miso crab ramen', 'entree', 'house miso crab blend + vegan dashi; slow braised niman ranch pork belly, crab meat, hanjuku tamago, kikurage, nori, scallions', '12', '6'], ['soft-shell miso crab ramen', 'entree', 'house miso crab blend + vegan dashi; fried whole soft-shell crab, hanjuku tamago, kikurage, nori, scallions', '14', '7'], ['tori paitan ramen', 'entree', 'rich, shoyu seasoned double stock (organic chicken broth + house dashi); slow braised niman ranch pork belly, hanuku tamago, kikurage, nori, scllaions', '13', '6'], ['tonkotsu ramen', 'entree', 'rich, shoyi seasoned niman ranch pork bone stock; slow braised niman ranch pork belly, hanjuku tamago, kikurage, nori, spring radish, scallions', '13', '6'], ['burnt garlic tonkotsu ramen', 'entree', 'rich, shoyi and burnt garlic seasoned niman ranch pork bone stock; slow braised niman ranch pork belly, hanjuku tamago, kikurage, sweet corn, nori, scallions', '14', '6'], ['vegetarian curry + king trumpet mushroom ramen', 'entree', 'house curry blend + vegan dashi; fried king trumpet mushroom, tempura fried tofu, mung bean sprouts, kikurage, nori, scallions', '13', '7'], ['truffle butter ramen', 'entree', 'rich, shoyu seasoned niman ranch prok bone stock; truffle compound butter, slow braised niman ranch pork belly, kikurage, sweet corn, nori, scallions', '14', '7'], ['green tea', 'drinks', 'green tea', '2.5', '1'], ['coke', 'drinks', 'Coca Cola soda', '2', '1'], ['black sesame ice cream', 'desserts', 'house-made black sesame ice cream, valrhona chocolate threads, complimentary hojicha', '5', '2'], ['matcha ice cream', 'desserts', 'house-made matcha ice cream, white chocolate pearls; complimentary hojicha', '5', '2'], ['mango mochi ice cream', 'desserts', 'two rice-cake bonbons filled with strawberry ice cream; complimentary hojicha', '5', '2'], ['strawberry mochi ice cream', 'desserts', 'two rice-cake bonbons filled with strawberry ice cream; complimentary hojicha', '5', '2'], ['black sesame creme brulee', 'desserts', 'house made black sesame infused creme brulee; complimentary hojicha', '6', '3']]\n"
     ]
    }
   ],
   "source": [
    "print(menu)"
   ]
  },
  {
   "cell_type": "code",
   "execution_count": null,
   "metadata": {},
   "outputs": [],
   "source": []
  }
 ],
 "metadata": {
  "kernelspec": {
   "display_name": "Python 3",
   "language": "python",
   "name": "python3"
  },
  "language_info": {
   "codemirror_mode": {
    "name": "ipython",
    "version": 3
   },
   "file_extension": ".py",
   "mimetype": "text/x-python",
   "name": "python",
   "nbconvert_exporter": "python",
   "pygments_lexer": "ipython3",
   "version": "3.7.7"
  }
 },
 "nbformat": 4,
 "nbformat_minor": 4
}
