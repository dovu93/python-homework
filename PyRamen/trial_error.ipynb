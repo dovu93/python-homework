{
 "cells": [
  {
   "cell_type": "code",
   "execution_count": 14,
   "metadata": {},
   "outputs": [
    {
     "name": "stdout",
     "output_type": "stream",
     "text": [
      "[['edamame', 'appetizers', 'boiled soybeans, maldon sea salt', '4', '1'], ['house salad', 'appetizers', 'mixed greens, cherry tomatoes, cucumber, house ginger dressing', '4', '2'], ['cucumber sunomono salad', 'appetizers', 'cucumber, ponzu dressing, pickled ginger sproud, sesame seeds', '5', '2'], ['hiyashi wakame seaweed salad', 'appetizers', 'sweet soy-marinated wakame seaweed threads, pickled ginger sprout, sesame seeds', '5', '2'], ['agedashi tofu', 'appetizers', 'tempura battered tofu, katsuobushi, tsuyu broth, scallions', '5', '2'], ['hiyayakko tofu', 'appetizers', 'chilled soft tofu, house shoyu, katsuobushi, ginger, scallions', '5', '2'], ['pork floss bao', 'appetizers', 'two steamed buns, minced lean slow braised niman, ranch pork belly, cucumbers, sriracha mayo', '4', '2'], ['kakuni bao', 'appetizers', 'two steamed buns, chopped fatty slow braised niman ranch pork belly, cucumbers, house bao sauce', '6', '3'], ['edamame fried gyoza (vegan)', 'appetizers', 'six crispy fried edamame and cabbage pot stickers; ponzu rayu dipping sauce', '6', '3'], ['fried gyoza', 'appetizers', 'six cripsy fried pork and vegetable pot stickers; ponzu rayu dipping sauce', '6', '6'], ['takoyaki', 'appetizers', 'six octopus-filled fried fritters, kewpie mayo, okonomi sauce, aonori, katsuobushi, nori', '6', '3'], ['rock shrimp tempura', 'appetizers', 'deep fried tempura battered rock shrimp, sriracha mayo, nisume sauce, aonori, scallions', '6', '3'], ['soft-shell crab tempura', 'appetizers', 'single deep fried soft-shell crab, tsuyu dipping broth', '6', '3'], ['ebi katsu shrimp bao', 'appetizers', 'two steamed buns, panko-crusted fried shrimp patties, yuzu-kosho mayo, aonori, scallions', '6', '3'], ['nagomi shoyu', 'entree', 'shoyu seasoned clear double stock (organic chick broth + house dashi); slow braised niman ranch pork belly, hanjuku tamago, nori, menma, scallions', '11', '5'], ['shio ramen', 'entree', 'sea salt seasoned clear double stock (organic chicken broth + house dashi); slow braised niman ranch pork belly, hanjuku tamago, kikurage, nori, scallions', '11', '5'], ['spicy miso ramen', 'entree', 'house togarashi miso blend + niman ranch pork bone stock; slow braised niman ranch pork belly, hanjuku tamago, kikurage, nori, scallions', '12', '5'], ['vegetarian spicy miso', 'entree', 'house togarashi miso blend + vegan dashi; tempura fried tofu, sweet corn, edamame, kikurage, nori, scallions; organic soy milk upon request', '12', '5'], ['miso crab ramen', 'entree', 'house miso crab blend + vegan dashi; slow braised niman ranch pork belly, crab meat, hanjuku tamago, kikurage, nori, scallions', '12', '6'], ['soft-shell miso crab ramen', 'entree', 'house miso crab blend + vegan dashi; fried whole soft-shell crab, hanjuku tamago, kikurage, nori, scallions', '14', '7'], ['tori paitan ramen', 'entree', 'rich, shoyu seasoned double stock (organic chicken broth + house dashi); slow braised niman ranch pork belly, hanuku tamago, kikurage, nori, scllaions', '13', '6'], ['tonkotsu ramen', 'entree', 'rich, shoyi seasoned niman ranch pork bone stock; slow braised niman ranch pork belly, hanjuku tamago, kikurage, nori, spring radish, scallions', '13', '6'], ['burnt garlic tonkotsu ramen', 'entree', 'rich, shoyi and burnt garlic seasoned niman ranch pork bone stock; slow braised niman ranch pork belly, hanjuku tamago, kikurage, sweet corn, nori, scallions', '14', '6'], ['vegetarian curry + king trumpet mushroom ramen', 'entree', 'house curry blend + vegan dashi; fried king trumpet mushroom, tempura fried tofu, mung bean sprouts, kikurage, nori, scallions', '13', '7'], ['truffle butter ramen', 'entree', 'rich, shoyu seasoned niman ranch prok bone stock; truffle compound butter, slow braised niman ranch pork belly, kikurage, sweet corn, nori, scallions', '14', '7'], ['green tea', 'drinks', 'green tea', '2.5', '1'], ['coke', 'drinks', 'Coca Cola soda', '2', '1'], ['black sesame ice cream', 'desserts', 'house-made black sesame ice cream, valrhona chocolate threads, complimentary hojicha', '5', '2'], ['matcha ice cream', 'desserts', 'house-made matcha ice cream, white chocolate pearls; complimentary hojicha', '5', '2'], ['mango mochi ice cream', 'desserts', 'two rice-cake bonbons filled with strawberry ice cream; complimentary hojicha', '5', '2'], ['strawberry mochi ice cream', 'desserts', 'two rice-cake bonbons filled with strawberry ice cream; complimentary hojicha', '5', '2'], ['black sesame creme brulee', 'desserts', 'house made black sesame infused creme brulee; complimentary hojicha', '6', '3']]\n"
     ]
    }
   ],
   "source": [
    "#these are my trial and errors and notes, wanted a clean copy of my code in the main\n",
    "\n",
    "import csv\n",
    "\n",
    "#don't need this, was wrong about instructions\n",
    "#menu = []\n",
    "#sales = []\n",
    "\n",
    "quantity = []\n",
    "menu_item = []\n",
    "\n",
    "test = [\n",
    "    [\"edamame\", \"appetizer\", \"soybeans\"],\n",
    "    [\"spinach\", \"appetizer\", \"leaves\"],\n",
    "    [\"nigiri\", \"sushi\", \"salmon\"],\n",
    "    [\"sashimi\", \"sushi\", \"tuna\"]\n",
    "]\n",
    "\n",
    "x = 0\n",
    "\n",
    "with open(\"menu_data.csv\", \"r\") as csv_file:\n",
    "    data = csv.reader(csv_file)\n",
    "    next(data)\n",
    "    for line in data:\n",
    "        menu.append(line)\n",
    "        \n",
    "  \n",
    "    \n",
    "with open(\"sales_data.csv\", \"r\") as file:\n",
    "    data1 = csv.reader(file)\n",
    "    next(data1)\n",
    "    for line1 in data1:\n",
    "        sales.append(line1)   \n",
    "        \n",
    "print(menu)"
   ]
  },
  {
   "cell_type": "code",
   "execution_count": 111,
   "metadata": {},
   "outputs": [],
   "source": [
    "quanity = 0\n",
    "menu_item = 0\n",
    "report = {}\n",
    "price = 0\n",
    "cost = 0\n",
    "d = 0\n",
    "\n",
    "\n",
    "\n",
    "for x in sales:\n",
    "    \n",
    "\n",
    "        #don't need the x([4]), drop the () since theres no list inside, just calling the index\n",
    "        menu_item = x[4]\n",
    "        d = int(x[3])\n",
    "        \n",
    "        if menu_item in report:\n",
    "            #don't know how to write move on to next\n",
    "            da = 0            \n",
    "        else: \n",
    "            report[menu_item] = {\n",
    "                \"count\": 0,\n",
    "                \"revenue\": 0,\n",
    "                \"cogs\": 0,\n",
    "                \"profit\": 0            \n",
    "                }\n",
    "        \n",
    "        \n",
    "        #needed to have the original outside, and then create a variable for the original inside, can't keep resetting it inside the if\n",
    "        if menu_item in report:\n",
    "            a = d\n",
    "            c = report[menu_item][\"count\"]\n",
    "            report[menu_item][\"count\"] = (c + a)\n",
    "            \n",
    "            \n",
    "            #this was all my thoughts\n",
    "            #a = int(x[3])[]\n",
    "            #s = s + a + d\n",
    "            #report[menu_item][\"count\"] = s\n",
    "            #d = s\n",
    "            #s = 0\n",
    "            #quanity > 0\n",
    "            #quanity + new = count\n",
    "            #quanity < 0\n",
    "            #count = quanity\n",
    "            \n"
   ]
  },
  {
   "cell_type": "code",
   "execution_count": 104,
   "metadata": {},
   "outputs": [
    {
     "name": "stdout",
     "output_type": "stream",
     "text": [
      "11\n"
     ]
    }
   ],
   "source": [
    "print(len(report))"
   ]
  },
  {
   "cell_type": "code",
   "execution_count": 112,
   "metadata": {},
   "outputs": [
    {
     "name": "stdout",
     "output_type": "stream",
     "text": [
      "{'spicy miso ramen': {'count': 9238, 'revenue': 0, 'cogs': 0, 'profit': 0}, 'tori paitan ramen': {'count': 9156, 'revenue': 0, 'cogs': 0, 'profit': 0}, 'truffle butter ramen': {'count': 8982, 'revenue': 0, 'cogs': 0, 'profit': 0}, 'tonkotsu ramen': {'count': 9288, 'revenue': 0, 'cogs': 0, 'profit': 0}, 'vegetarian spicy miso': {'count': 9216, 'revenue': 0, 'cogs': 0, 'profit': 0}, 'shio ramen': {'count': 9180, 'revenue': 0, 'cogs': 0, 'profit': 0}, 'miso crab ramen': {'count': 8890, 'revenue': 0, 'cogs': 0, 'profit': 0}, 'nagomi shoyu': {'count': 9132, 'revenue': 0, 'cogs': 0, 'profit': 0}, 'soft-shell miso crab ramen': {'count': 9130, 'revenue': 0, 'cogs': 0, 'profit': 0}, 'burnt garlic tonkotsu ramen': {'count': 9070, 'revenue': 0, 'cogs': 0, 'profit': 0}, 'vegetarian curry + king trumpet mushroom ramen': {'count': 8824, 'revenue': 0, 'cogs': 0, 'profit': 0}}\n"
     ]
    }
   ],
   "source": [
    "print(report)"
   ]
  },
  {
   "cell_type": "code",
   "execution_count": null,
   "metadata": {},
   "outputs": [],
   "source": []
  }
 ],
 "metadata": {
  "kernelspec": {
   "display_name": "Python 3",
   "language": "python",
   "name": "python3"
  },
  "language_info": {
   "codemirror_mode": {
    "name": "ipython",
    "version": 3
   },
   "file_extension": ".py",
   "mimetype": "text/x-python",
   "name": "python",
   "nbconvert_exporter": "python",
   "pygments_lexer": "ipython3",
   "version": "3.7.7"
  }
 },
 "nbformat": 4,
 "nbformat_minor": 4
}
