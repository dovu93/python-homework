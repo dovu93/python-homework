{
 "cells": [
  {
   "cell_type": "code",
   "execution_count": 22,
   "metadata": {},
   "outputs": [],
   "source": [
    "import csv\n",
    "\n",
    "menu = []\n",
    "sales = []\n",
    "\n",
    "with open(\"menu_data.csv\", \"r\") as csv_file:\n",
    "    data = csv.reader(csv_file)\n",
    "    next(data)\n",
    "    for line in data:\n",
    "        menu.append(line)\n",
    "        \n",
    "with open(\"sales_data.csv\", \"r\") as file:\n",
    "    data1 = csv.reader(file)\n",
    "    next(data1)\n",
    "    for line1 in data1:\n",
    "        sales.append(line1)     "
   ]
  },
  {
   "cell_type": "code",
   "execution_count": 23,
   "metadata": {},
   "outputs": [],
   "source": [
    "report = {}"
   ]
  },
  {
   "cell_type": "code",
   "execution_count": 24,
   "metadata": {},
   "outputs": [],
   "source": [
    "for x in sales:\n",
    "    \n",
    "    menu_item = x[4] \n",
    "    quanity = int(x[3])\n",
    "        \n",
    "    if menu_item in report:\n",
    "        da = 0            \n",
    "    else: \n",
    "        report[menu_item] = {\n",
    "            \"count\": 0,\n",
    "            \"revenue\": 0,\n",
    "            \"cogs\": 0,\n",
    "            \"profit\": 0            \n",
    "            }\n",
    "        \n",
    "    if menu_item in report:\n",
    "            new_quanity = quanity\n",
    "            old_quanity = report[menu_item][\"count\"]\n",
    "            report[menu_item][\"count\"] = (new_quanity + old_quanity)\n"
   ]
  },
  {
   "cell_type": "code",
   "execution_count": 25,
   "metadata": {},
   "outputs": [
    {
     "name": "stdout",
     "output_type": "stream",
     "text": [
      "edamame does not equal edamame! NO MATCH!!\n",
      "house salad does not equal house salad! NO MATCH!!\n",
      "cucumber sunomono salad does not equal cucumber sunomono salad! NO MATCH!!\n",
      "hiyashi wakame seaweed salad does not equal hiyashi wakame seaweed salad! NO MATCH!!\n",
      "agedashi tofu does not equal agedashi tofu! NO MATCH!!\n",
      "hiyayakko tofu does not equal hiyayakko tofu! NO MATCH!!\n",
      "pork floss bao does not equal pork floss bao! NO MATCH!!\n",
      "kakuni bao does not equal kakuni bao! NO MATCH!!\n",
      "edamame fried gyoza (vegan) does not equal edamame fried gyoza (vegan)! NO MATCH!!\n",
      "fried gyoza does not equal fried gyoza! NO MATCH!!\n",
      "takoyaki does not equal takoyaki! NO MATCH!!\n",
      "rock shrimp tempura does not equal rock shrimp tempura! NO MATCH!!\n",
      "soft-shell crab tempura does not equal soft-shell crab tempura! NO MATCH!!\n",
      "ebi katsu shrimp bao does not equal ebi katsu shrimp bao! NO MATCH!!\n",
      "green tea does not equal green tea! NO MATCH!!\n",
      "coke does not equal coke! NO MATCH!!\n",
      "black sesame ice cream does not equal black sesame ice cream! NO MATCH!!\n",
      "matcha ice cream does not equal matcha ice cream! NO MATCH!!\n",
      "mango mochi ice cream does not equal mango mochi ice cream! NO MATCH!!\n",
      "strawberry mochi ice cream does not equal strawberry mochi ice cream! NO MATCH!!\n",
      "black sesame creme brulee does not equal black sesame creme brulee! NO MATCH!!\n"
     ]
    }
   ],
   "source": [
    "for x in menu:\n",
    "    \n",
    "    item = str(x[0])\n",
    "    price = float(x[3])\n",
    "    cost = float(x[4])\n",
    "    \n",
    "    if item in report:\n",
    "        quan = report[item][\"count\"]\n",
    "        report[item][\"revenue\"] = (price * quan)\n",
    "        report[item][\"cogs\"] = (quan * cost)\n",
    "        r = report[item][\"revenue\"]\n",
    "        c = report[item][\"cogs\"]\n",
    "        report[item][\"profit\"] = (r - c) \n",
    "        \n",
    "    else:\n",
    "        print(item + \" does not equal \" + item + \"! NO MATCH!!\")"
   ]
  },
  {
   "cell_type": "code",
   "execution_count": 26,
   "metadata": {},
   "outputs": [],
   "source": [
    "\n",
    "with open(\"Report.txt\", \"w\") as text:\n",
    "    text.write(\"Sales report for PyRamen\\n\")\n",
    "    text.write(\"--------------------------------------------------------------------------------------\\n\")\n",
    "    for key, value in report.items():\n",
    "        text.write(f\"{key} {value}\" + \"\\n\")\n",
    "        \n",
    "    text.write(\"--------------------------------------------------------------------------------------\")\n"
   ]
  },
  {
   "cell_type": "code",
   "execution_count": null,
   "metadata": {},
   "outputs": [],
   "source": []
  }
 ],
 "metadata": {
  "kernelspec": {
   "display_name": "Python 3",
   "language": "python",
   "name": "python3"
  },
  "language_info": {
   "codemirror_mode": {
    "name": "ipython",
    "version": 3
   },
   "file_extension": ".py",
   "mimetype": "text/x-python",
   "name": "python",
   "nbconvert_exporter": "python",
   "pygments_lexer": "ipython3",
   "version": "3.7.7"
  }
 },
 "nbformat": 4,
 "nbformat_minor": 4
}
