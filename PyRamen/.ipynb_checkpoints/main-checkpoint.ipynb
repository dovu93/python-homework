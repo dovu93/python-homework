{
 "cells": [
  {
   "cell_type": "code",
   "execution_count": 15,
   "metadata": {},
   "outputs": [],
   "source": [
    "import csv\n",
    "\n",
    "menu = []\n",
    "sales = []\n",
    "\n",
    "report_quanity = 0\n",
    "report_revenue = 0\n",
    "report_cogs = 0\n",
    "report_profit = 0\n",
    "\n",
    "with open(\"menu_data.csv\", \"r\") as csv_file:\n",
    "    data = csv.reader(csv_file)\n",
    "    next(data)\n",
    "    for line in data:\n",
    "        menu.append(line)\n",
    "        \n",
    "with open(\"sales_data.csv\", \"r\") as file:\n",
    "    data1 = csv.reader(file)\n",
    "    next(data1)\n",
    "    for line1 in data1:\n",
    "        sales.append(line1)     "
   ]
  },
  {
   "cell_type": "code",
   "execution_count": 16,
   "metadata": {},
   "outputs": [],
   "source": [
    "report = {}"
   ]
  },
  {
   "cell_type": "code",
   "execution_count": 17,
   "metadata": {},
   "outputs": [],
   "source": [
    "for sale in sales:\n",
    "    \n",
    "    menu_item = sale[4] \n",
    "    quanity = int(sale[3])\n",
    "        \n",
    "    if menu_item in report:\n",
    "        # random variable as I don't know how to just skip over if it is in report\n",
    "        da = 0            \n",
    "    else: \n",
    "        report[menu_item] = {\n",
    "            \"01-Count\": 0,\n",
    "            \"02-Revenue\": 0,\n",
    "            \"03-Cogs\": 0,\n",
    "            \"04-Profit\": 0            \n",
    "            }\n",
    "        \n",
    "    if menu_item in report:\n",
    "            new_quanity = quanity\n",
    "            old_quanity = report[menu_item][\"01-Count\"]\n",
    "            report[menu_item][\"01-Count\"] = (new_quanity + old_quanity)\n",
    "            \n",
    "            \n",
    "            \n",
    "    for x in menu:\n",
    "    \n",
    "        item = str(x[0])\n",
    "        price = float(x[3])\n",
    "        cost = float(x[4])\n",
    "    \n",
    "    \n",
    "#             for y in sales:\n",
    "#                 menu_item\n",
    "        \n",
    "        if item in report:\n",
    "            quan = report[item][\"01-Count\"]\n",
    "            report[item][\"02-Revenue\"] = (price * quan)\n",
    "            report[item][\"03-Cogs\"] = (quan * cost)\n",
    "            r = report[item][\"02-Revenue\"]\n",
    "            c = report[item][\"03-Cogs\"]\n",
    "            report[item][\"04-Profit\"] = (r - c) \n",
    "#  Hashing this out cause I don't want it to run a lot of lines, but feel free to unhash to check if the output is correct. Ran it by Jonathan and he mentioned the solution also has this.\n",
    "#         else:\n",
    "#             print(menu_item + \" does not equal \" + item + \"! NO MATCH!!\")\n"
   ]
  },
  {
   "cell_type": "code",
   "execution_count": 18,
   "metadata": {},
   "outputs": [],
   "source": [
    "\n",
    "with open(\"Report.txt\", \"w\") as text:\n",
    "    text.write(\"Sales report for PyRamen\\n\")\n",
    "    text.write(\"--------------------------------------------------------------------------------------\\n\")\n",
    "    for key, value in report.items():\n",
    "        text.write(f\"{key} {value}\" + \"\\n\")\n",
    "        \n",
    "    text.write(\"--------------------------------------------------------------------------------------\")"
   ]
  },
  {
   "cell_type": "code",
   "execution_count": 19,
   "metadata": {},
   "outputs": [
    {
     "name": "stdout",
     "output_type": "stream",
     "text": [
      "{'spicy miso ramen': {'01-Count': 9238, '02-Revenue': 110856.0, '03-Cogs': 46190.0, '04-Profit': 64666.0}, 'tori paitan ramen': {'01-Count': 9156, '02-Revenue': 119028.0, '03-Cogs': 54936.0, '04-Profit': 64092.0}, 'truffle butter ramen': {'01-Count': 8982, '02-Revenue': 125748.0, '03-Cogs': 62874.0, '04-Profit': 62874.0}, 'tonkotsu ramen': {'01-Count': 9288, '02-Revenue': 120744.0, '03-Cogs': 55728.0, '04-Profit': 65016.0}, 'vegetarian spicy miso': {'01-Count': 9216, '02-Revenue': 110592.0, '03-Cogs': 46080.0, '04-Profit': 64512.0}, 'shio ramen': {'01-Count': 9180, '02-Revenue': 100980.0, '03-Cogs': 45900.0, '04-Profit': 55080.0}, 'miso crab ramen': {'01-Count': 8890, '02-Revenue': 106680.0, '03-Cogs': 53340.0, '04-Profit': 53340.0}, 'nagomi shoyu': {'01-Count': 9132, '02-Revenue': 100452.0, '03-Cogs': 45660.0, '04-Profit': 54792.0}, 'soft-shell miso crab ramen': {'01-Count': 9130, '02-Revenue': 127820.0, '03-Cogs': 63910.0, '04-Profit': 63910.0}, 'burnt garlic tonkotsu ramen': {'01-Count': 9070, '02-Revenue': 126980.0, '03-Cogs': 54420.0, '04-Profit': 72560.0}, 'vegetarian curry + king trumpet mushroom ramen': {'01-Count': 8824, '02-Revenue': 114712.0, '03-Cogs': 61768.0, '04-Profit': 52944.0}}\n"
     ]
    }
   ],
   "source": [
    "print(report)"
   ]
  },
  {
   "cell_type": "code",
   "execution_count": null,
   "metadata": {},
   "outputs": [],
   "source": []
  }
 ],
 "metadata": {
  "kernelspec": {
   "display_name": "Python 3",
   "language": "python",
   "name": "python3"
  },
  "language_info": {
   "codemirror_mode": {
    "name": "ipython",
    "version": 3
   },
   "file_extension": ".py",
   "mimetype": "text/x-python",
   "name": "python",
   "nbconvert_exporter": "python",
   "pygments_lexer": "ipython3",
   "version": "3.7.7"
  }
 },
 "nbformat": 4,
 "nbformat_minor": 4
}
