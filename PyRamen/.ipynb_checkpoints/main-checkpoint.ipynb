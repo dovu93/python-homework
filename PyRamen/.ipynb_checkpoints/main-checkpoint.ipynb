{
 "cells": [
  {
   "cell_type": "code",
   "execution_count": 58,
   "metadata": {},
   "outputs": [],
   "source": [
    "import csv\n",
    "\n",
    "menu = []\n",
    "sales = []\n",
    "\n",
    "with open(\"menu_data.csv\", \"r\") as csv_file:\n",
    "    data = csv.reader(csv_file)\n",
    "    next(data)\n",
    "    for line in data:\n",
    "        menu.append(line)\n",
    "        \n",
    "with open(\"sales_data.csv\", \"r\") as file:\n",
    "    data1 = csv.reader(file)\n",
    "    next(data1)\n",
    "    for line1 in data1:\n",
    "        sales.append(line1)     "
   ]
  },
  {
   "cell_type": "code",
   "execution_count": 67,
   "metadata": {},
   "outputs": [],
   "source": [
    "report = {}"
   ]
  },
  {
   "cell_type": "code",
   "execution_count": 70,
   "metadata": {},
   "outputs": [],
   "source": [
    "for x in sales:\n",
    "    \n",
    "    menu_item = x[4] \n",
    "    quanity = int(x[3])\n",
    "        \n",
    "    if menu_item in report:\n",
    "        da = 0            \n",
    "    else: \n",
    "        report[menu_item] = {\n",
    "            \"count\": 0,\n",
    "            \"revenue\": 0,\n",
    "            \"cogs\": 0,\n",
    "            \"profit\": 0            \n",
    "            }\n",
    "        \n",
    "    if menu_item in report:\n",
    "            new_quanity = quanity\n",
    "            old_quanity = report[menu_item][\"count\"]\n",
    "            report[menu_item][\"count\"] = (new_quanity + old_quanity)"
   ]
  },
  {
   "cell_type": "code",
   "execution_count": null,
   "metadata": {},
   "outputs": [],
   "source": []
  }
 ],
 "metadata": {
  "kernelspec": {
   "display_name": "Python 3",
   "language": "python",
   "name": "python3"
  },
  "language_info": {
   "codemirror_mode": {
    "name": "ipython",
    "version": 3
   },
   "file_extension": ".py",
   "mimetype": "text/x-python",
   "name": "python",
   "nbconvert_exporter": "python",
   "pygments_lexer": "ipython3",
   "version": "3.7.7"
  }
 },
 "nbformat": 4,
 "nbformat_minor": 4
}
